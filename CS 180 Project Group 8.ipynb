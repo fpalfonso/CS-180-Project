{
 "cells": [
  {
   "cell_type": "markdown",
   "id": "cc0c3acc-4ca9-41bd-b7ac-7e2b91f78996",
   "metadata": {},
   "source": [
    "# Predictive Maintenance System for Automotive Vehicles\n",
    "\n",
    "Group 8:\n",
    "\n",
    "ALFONSO, Francis Donald (THU)\n",
    "\n",
    "DOLOJAN, Julian (THX)\n",
    "\n",
    "PILAPIL, Marcus Corso (THX)\n"
   ]
  },
  {
   "cell_type": "code",
   "execution_count": 1,
   "id": "b7b08540-4b8f-4aeb-b5bf-941f8bade1d6",
   "metadata": {},
   "outputs": [
    {
     "name": "stdout",
     "output_type": "stream",
     "text": [
      "Hello World\n"
     ]
    }
   ],
   "source": [
    "print(\"Hello World\")"
   ]
  },
  {
   "cell_type": "code",
   "execution_count": null,
   "id": "adda756e-a6fc-4d31-a6b7-5a086f45f55c",
   "metadata": {},
   "outputs": [],
   "source": []
  }
 ],
 "metadata": {
  "kernelspec": {
   "display_name": "Python 3 (ipykernel)",
   "language": "python",
   "name": "python3"
  },
  "language_info": {
   "codemirror_mode": {
    "name": "ipython",
    "version": 3
   },
   "file_extension": ".py",
   "mimetype": "text/x-python",
   "name": "python",
   "nbconvert_exporter": "python",
   "pygments_lexer": "ipython3",
   "version": "3.11.5"
  }
 },
 "nbformat": 4,
 "nbformat_minor": 5
}
